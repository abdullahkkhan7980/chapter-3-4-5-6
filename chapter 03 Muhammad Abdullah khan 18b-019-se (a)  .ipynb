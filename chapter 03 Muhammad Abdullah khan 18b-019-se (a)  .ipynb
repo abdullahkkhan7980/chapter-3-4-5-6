{
 "cells": [
  {
   "cell_type": "code",
   "execution_count": 1,
   "metadata": {},
   "outputs": [],
   "source": [
    "#### CHAPTER 03 PRACTICE PROBLEMS "
   ]
  },
  {
   "cell_type": "code",
   "execution_count": 18,
   "metadata": {},
   "outputs": [
    {
     "name": "stdout",
     "output_type": "stream",
     "text": [
      "You can get your pension benefits!\n",
      "One of the top 5 baseball players, ever!\n",
      "You're dead ...\n",
      "I can escape.\n"
     ]
    }
   ],
   "source": [
    "name ='Williams'\n",
    "hits = 12\n",
    "shield = 0\n",
    "age= 74\n",
    "north =30\n",
    "south = 40\n",
    "west = 50\n",
    "if age > 62:\n",
    "    print('You can get your pension benefits!')\n",
    "if name in ['Musial','Aaron','Williams','Gehrig','Ruth']:\n",
    "    print('One of the top 5 baseball players, ever!')\n",
    "if hits > 10 and shield == 0:\n",
    "    print('You\\'re dead ...')\n",
    "if north or south or east or west:\n",
    "    print('I can escape.')\n"
   ]
  },
  {
   "cell_type": "code",
   "execution_count": 20,
   "metadata": {},
   "outputs": [
    {
     "name": "stdout",
     "output_type": "stream",
     "text": [
      "Definitely not a leap year.\n",
      "You won!\n"
     ]
    }
   ],
   "source": [
    "year =2019\n",
    "ticket = 10\n",
    "lottery = 10\n",
    "\n",
    "if year % 4 == 0:\n",
    "    print('Could be a leap year.')\n",
    "else:\n",
    "    print('Definitely not a leap year.')\n",
    "if ticket == lottery:\n",
    "    print('You won!')\n",
    "else:\n",
    "    print('Better luck next time...')"
   ]
  },
  {
   "cell_type": "code",
   "execution_count": 24,
   "metadata": {},
   "outputs": [
    {
     "name": "stdout",
     "output_type": "stream",
     "text": [
      "Could be a leap year.\n",
      "You won!\n"
     ]
    }
   ],
   "source": [
    "# for leap year\n",
    "year = 2004\n",
    "ticket = 10\n",
    "lottery = 10\n",
    "\n",
    "if year % 4 == 0:\n",
    "    print('Could be a leap year.')\n",
    "else:\n",
    "    print('Definitely not a leap year.')\n",
    "if ticket == lottery:\n",
    "    print('You won!')\n",
    "else:\n",
    "    print('Better luck next time...')"
   ]
  },
  {
   "cell_type": "code",
   "execution_count": 26,
   "metadata": {},
   "outputs": [
    {
     "name": "stdout",
     "output_type": "stream",
     "text": [
      "Login: abdullah\n",
      "User unknown.\n",
      "Done.\n"
     ]
    }
   ],
   "source": [
    "# for user login 3.3\n",
    "users = ['joe', 'sue', 'hani', 'sophie']\n",
    "id = input('Login: ')\n",
    "if id in users:\n",
    "    print('You are in!')\n",
    "else:\n",
    "    print('User unknown.')\n",
    "print('Done.')"
   ]
  },
  {
   "cell_type": "code",
   "execution_count": 35,
   "metadata": {},
   "outputs": [
    {
     "name": "stdout",
     "output_type": "stream",
     "text": [
      "Enter wordlist2\n",
      "hani\n"
     ]
    }
   ],
   "source": [
    "word = eval(input(\"Enter wordlist\"))\n",
    "wordList = ['joe', 'sue', 'hani', 'sophie','abdullah','dildo']\n",
    "for word in wordList:\n",
    "    if len(word) == 4:\n",
    "        print(word)"
   ]
  },
  {
   "cell_type": "code",
   "execution_count": 36,
   "metadata": {},
   "outputs": [
    {
     "name": "stdout",
     "output_type": "stream",
     "text": [
      "0\n",
      "1\n",
      "2\n",
      "3\n",
      "4\n",
      "5\n",
      "6\n",
      "7\n",
      "8\n",
      "9\n",
      "0\n",
      "1\n"
     ]
    }
   ],
   "source": [
    "for i in range(10):\n",
    "    print(i)\n",
    "for i in range(2):\n",
    "    print(i)"
   ]
  },
  {
   "cell_type": "code",
   "execution_count": 38,
   "metadata": {},
   "outputs": [
    {
     "name": "stdout",
     "output_type": "stream",
     "text": [
      "31.41592653589793\n"
     ]
    }
   ],
   "source": [
    "import math\n",
    "def perimeter(radius):\n",
    "    return 2 * math.pi * radius\n",
    "\n",
    "# driver code\n",
    "print(perimeter(5))"
   ]
  },
  {
   "cell_type": "code",
   "execution_count": 39,
   "metadata": {},
   "outputs": [
    {
     "name": "stdout",
     "output_type": "stream",
     "text": [
      "7.5\n"
     ]
    }
   ],
   "source": [
    "def average(x, y):\n",
    "    return (x + y) / 2\n",
    "# drivercode\n",
    "print(average(5,10))"
   ]
  },
  {
   "cell_type": "code",
   "execution_count": 4,
   "metadata": {},
   "outputs": [
    {
     "name": "stdout",
     "output_type": "stream",
     "text": [
      "False\n"
     ]
    }
   ],
   "source": [
    "def noVowel(s):\n",
    "\n",
    "    for c in s:\n",
    "        if c in 'aeiouAEIOU':\n",
    "            return False\n",
    "            return True\n",
    "        \n",
    "print(noVowel('aeiouAEIOU'))"
   ]
  },
  {
   "cell_type": "code",
   "execution_count": 7,
   "metadata": {},
   "outputs": [
    {
     "name": "stdout",
     "output_type": "stream",
     "text": [
      "False\n"
     ]
    }
   ],
   "source": [
    "def noVowel(s):\n",
    "    s = 'aeiouAEIOU'\n",
    "    for c in s:\n",
    "        if c in s:\n",
    "            return False\n",
    "            return True\n",
    "        \n",
    "print(noVowel('A'))"
   ]
  },
  {
   "cell_type": "code",
   "execution_count": 16,
   "metadata": {},
   "outputs": [
    {
     "data": {
      "text/plain": [
       "False"
      ]
     },
     "execution_count": 16,
     "metadata": {},
     "output_type": "execute_result"
    }
   ],
   "source": [
    "def allEven(numList):\n",
    "    for num in numList:\n",
    "         if num%2 == 0:\n",
    "            return False\n",
    "            return True\n",
    "# Driver code        \n",
    "numList = [2,4,6]\n",
    "allEven(numList)\n",
    "        \n",
    "\n"
   ]
  },
  {
   "cell_type": "code",
   "execution_count": null,
   "metadata": {},
   "outputs": [],
   "source": []
  },
  {
   "cell_type": "code",
   "execution_count": 6,
   "metadata": {},
   "outputs": [
    {
     "name": "stdout",
     "output_type": "stream",
     "text": [
      "-1\n",
      "-2\n",
      "-3\n",
      "-4\n",
      "-5\n"
     ]
    }
   ],
   "source": [
    "def negatives(a):\n",
    "    for i in a:\n",
    "        if i < 0:\n",
    "            print(i)\n",
    "#driver code \n",
    "a =[-1,-2,-3,-4,-5]\n",
    "negatives(a)"
   ]
  },
  {
   "cell_type": "code",
   "execution_count": 51,
   "metadata": {},
   "outputs": [
    {
     "name": "stdout",
     "output_type": "stream",
     "text": [
      "Hello World\n",
      "7\n"
     ]
    }
   ],
   "source": [
    "# 3.17 Use the eval() function to evaluate these strings as Python expressions:\n",
    "#(a) '2 * 3 + 1'\n",
    "#(b) 'hello'\n",
    "#(c) \"'hello' + ' ' + 'world!'\"\n",
    "#(d) \"'ASCII'.count('I')\"\n",
    "#(e) 'x = 5'\n",
    "#Which evaluations result in an error? Explain why\n",
    "\n",
    "\n",
    "\n",
    "    "
   ]
  },
  {
   "cell_type": "code",
   "execution_count": 53,
   "metadata": {},
   "outputs": [
    {
     "name": "stdout",
     "output_type": "stream",
     "text": [
      "January\n",
      "February\n",
      "March\n"
     ]
    }
   ],
   "source": [
    "string = ['January', 'February', 'March']\n",
    "for i in string:\n",
    "    print(i)"
   ]
  },
  {
   "cell_type": "code",
   "execution_count": 57,
   "metadata": {},
   "outputs": [
    {
     "name": "stdout",
     "output_type": "stream",
     "text": [
      "49\n"
     ]
    }
   ],
   "source": [
    "#Assume a, b, and c have been defined in the interactive shell as shown:\n",
    " #a, b, c = 3, 4, 5\n",
    "#Within the interactive shell, write if statements that print 'OK' if:\n",
    "#(a) a is less than b.\n",
    "##(b) c is less than b.\n",
    "##(c) The sum of a and b is equal to c.\n",
    "#(d) The sum of the squares a and b is equal to c squared.\n",
    "\n",
    "a = 3\n",
    "b = 4\n",
    "c = 5\n",
    "c1 = a+b\n",
    "c2 = c1**2\n",
    "if a<b and c<b:\n",
    "    print(c1)\n",
    "else:\n",
    "    print(c2)"
   ]
  },
  {
   "cell_type": "code",
   "execution_count": 4,
   "metadata": {},
   "outputs": [
    {
     "name": "stdout",
     "output_type": "stream",
     "text": [
      "Enter wordlist4\n",
      "suji\n",
      "hani\n"
     ]
    }
   ],
   "source": [
    "word = eval(input(\"Enter wordlist\"))\n",
    "wordList = ['joe', 'suji', 'hani', 'sophie','abdullah']\n",
    "for word in wordList:\n",
    "    if len(word) == 4:\n",
    "        print(word)"
   ]
  },
  {
   "cell_type": "code",
   "execution_count": 65,
   "metadata": {},
   "outputs": [
    {
     "name": "stdout",
     "output_type": "stream",
     "text": [
      "2\n",
      "4\n",
      "6\n",
      "8\n"
     ]
    }
   ],
   "source": [
    "#Write a for loop that iterates over a list of numbers lst and prints the even numbers\n",
    "#in the list. For example, if lst is [2, 3, 4, 5, 6, 7, 8, 9], then the numbers 2, 4, 6,\n",
    "#and 8 should be printed.\n",
    "\n",
    "num = [2, 3, 4, 5, 6, 7, 8, 9]\n",
    "for i in num:\n",
    "    if i%2 ==0 :\n",
    "        print(i)"
   ]
  },
  {
   "cell_type": "code",
   "execution_count": 66,
   "metadata": {},
   "outputs": [
    {
     "name": "stdout",
     "output_type": "stream",
     "text": [
      "4\n",
      "8\n"
     ]
    }
   ],
   "source": [
    "#Write a for loop that iterates over a list of numbers lst and prints the numbers in the\n",
    "#list whose square is divisible by 8. For example, if lst is [2, 3, 4, 5, 6, 7, 8, 9],\n",
    "#then the numbers 4 and 8 should be printed.\n",
    "\n",
    "num = [2, 3, 4, 5, 6, 7, 8, 9]\n",
    "for i in num:\n",
    "    if i%4 ==0 :\n",
    "        print(i)\n"
   ]
  },
  {
   "cell_type": "code",
   "execution_count": 16,
   "metadata": {},
   "outputs": [
    {
     "name": "stdout",
     "output_type": "stream",
     "text": [
      "0\n",
      "1\n",
      "\n",
      "\n",
      "0\n",
      "\n",
      "\n",
      "3\n",
      "4\n",
      "5\n",
      "6\n",
      "\n",
      "\n",
      "Enter The number :7\n",
      "0\n",
      "1\n",
      "2\n"
     ]
    }
   ],
   "source": [
    "# Write for loops that use the function range() and print the following sequences:\n",
    "#(a) 0 1\n",
    "#(b) 0\n",
    "#(c) 3 4 5 6\n",
    "#(d) 1\n",
    "#(e) 0 3\n",
    "#(f) 5 9 13 17 21\n",
    "\n",
    "for i in range(2):\n",
    "    print(i)\n",
    "    \n",
    "print('\\n')\n",
    "# part 2\n",
    "\n",
    "for i in range(1):\n",
    "    print(i)\n",
    "    \n",
    "print('\\n')\n",
    "    \n",
    "#part 3\n",
    "for i in range(3,7):\n",
    "        print(i)\n",
    "print('\\n')        \n",
    "# part 4\n",
    "n = int(input(\"Enter The number :\"))\n",
    "for i in range(0,10-n):\n",
    "    print(i)"
   ]
  },
  {
   "cell_type": "code",
   "execution_count": 28,
   "metadata": {},
   "outputs": [
    {
     "name": "stdout",
     "output_type": "stream",
     "text": [
      "Enter a list of Students: abdullah , mujeeb , saboor , hafiz\n",
      "a\n",
      "b\n",
      "d\n",
      "a\n",
      "h\n",
      "e\n",
      "e\n",
      "b\n",
      "a\n",
      "b\n",
      "h\n",
      "a\n",
      "f\n",
      "i\n"
     ]
    }
   ],
   "source": [
    "#Implement a program that requests a list of student names from the user and prints\n",
    "#those names that start with letters A through M.\n",
    "phrase = input('Enter a list of Students: ')\n",
    "for c in phrase:\n",
    "    if c in 'abcdefghiABCDEFGHI':\n",
    "        print(c)"
   ]
  },
  {
   "cell_type": "code",
   "execution_count": 6,
   "metadata": {},
   "outputs": [
    {
     "name": "stdout",
     "output_type": "stream",
     "text": [
      "Enter a list of words: isi mi6 gavin\n",
      "isi mi6 gavin\n"
     ]
    }
   ],
   "source": [
    "wordinput = input('Enter a list of words: ').split(', ')\n",
    "for i in wordinput:\n",
    "        if i != 'secret':\n",
    "            print (i)"
   ]
  },
  {
   "cell_type": "code",
   "execution_count": 1,
   "metadata": {},
   "outputs": [
    {
     "name": "stdout",
     "output_type": "stream",
     "text": [
      "['syrup', 'eggs', 'sugar', 'flour']\n"
     ]
    }
   ],
   "source": [
    "# swap \n",
    "def swapFl():\n",
    "    ingredients = ['flour','eggs','sugar','syrup']\n",
    "    ingredients[0],ingredients[-1]= ingredients[-1],ingredients[0]\n",
    "    print(ingredients)\n",
    "swapFl()"
   ]
  },
  {
   "cell_type": "code",
   "execution_count": 3,
   "metadata": {},
   "outputs": [
    {
     "name": "stdout",
     "output_type": "stream",
     "text": [
      "The temprature in fahrenheit 4.444444444444445\n"
     ]
    }
   ],
   "source": [
    "def Fahrenheit(f):\n",
    "    celsius=5/9*(f-32)\n",
    "    return celsius\n",
    "print(\"The temprature in fahrenheit\",Fahrenheit(40))"
   ]
  },
  {
   "cell_type": "code",
   "execution_count": 8,
   "metadata": {},
   "outputs": [
    {
     "name": "stdout",
     "output_type": "stream",
     "text": [
      "Enter names: Ellie Steve oven Gavin\n",
      "Ellie\n",
      "Gavin\n"
     ]
    }
   ],
   "source": [
    "namelst=input(\"Enter names: \").split()\n",
    "for i in namelst:\n",
    "    alphabets=['A','B','C','D','E','F','G','H','I','J','K','L','M']\n",
    "    if i[0] in alphabets:\n",
    "        print(i)"
   ]
  },
  {
   "cell_type": "code",
   "execution_count": null,
   "metadata": {},
   "outputs": [],
   "source": []
  }
 ],
 "metadata": {
  "kernelspec": {
   "display_name": "Python 3",
   "language": "python",
   "name": "python3"
  },
  "language_info": {
   "codemirror_mode": {
    "name": "ipython",
    "version": 3
   },
   "file_extension": ".py",
   "mimetype": "text/x-python",
   "name": "python",
   "nbconvert_exporter": "python",
   "pygments_lexer": "ipython3",
   "version": "3.7.0"
  }
 },
 "nbformat": 4,
 "nbformat_minor": 2
}
