{
 "cells": [
  {
   "cell_type": "code",
   "execution_count": null,
   "metadata": {},
   "outputs": [],
   "source": [
    "## chapter 04 5 6 practice "
   ]
  },
  {
   "cell_type": "code",
   "execution_count": 21,
   "metadata": {},
   "outputs": [
    {
     "data": {
      "text/plain": [
       "125"
      ]
     },
     "execution_count": 21,
     "metadata": {},
     "output_type": "execute_result"
    }
   ],
   "source": [
    "def numChars(filename):\n",
    "    infile=open(filename,'r')\n",
    "    content=infile.read()\n",
    "    infile.close()\n",
    "    return len(content)\n",
    "\n",
    "\n",
    "numChars('example.txt')"
   ]
  },
  {
   "cell_type": "code",
   "execution_count": 20,
   "metadata": {},
   "outputs": [
    {
     "name": "stdout",
     "output_type": "stream",
     "text": [
      "['My', 'name', 'is', 'abdullah', 'khan', 'im', '22', 'years', 'old', 'i', 'use', 'to', 'study', 'in', 'usman', 'institute', 'of', 'technology', 'in', 'software', 'engineering', 'department']\n"
     ]
    },
    {
     "data": {
      "text/plain": [
       "22"
      ]
     },
     "execution_count": 20,
     "metadata": {},
     "output_type": "execute_result"
    }
   ],
   "source": [
    "def numWords(filename):\n",
    "    infile=open(filename,'r')\n",
    "    content=infile.read()\n",
    "    infile.close()\n",
    "    \n",
    "    wordList=content.split()\n",
    "    print(wordList)\n",
    "    return len(wordList)\n",
    "\n",
    "numWords('example.txt')"
   ]
  },
  {
   "cell_type": "code",
   "execution_count": 19,
   "metadata": {},
   "outputs": [
    {
     "name": "stdout",
     "output_type": "stream",
     "text": [
      "My name is abdullah khan im 22 years old i use to study in usman institute of technology in software engineering department \n",
      "\n"
     ]
    },
    {
     "data": {
      "text/plain": [
       "125"
      ]
     },
     "execution_count": 19,
     "metadata": {},
     "output_type": "execute_result"
    }
   ],
   "source": [
    "def numLines(filename):\n",
    "    infile=open(filename,'r')\n",
    "    Linelist=infile.read()\n",
    "    infile.close()\n",
    "    \n",
    "    print(Linelist)\n",
    "    return len(Linelist)\n",
    "    \n",
    "numLines('example.txt')"
   ]
  },
  {
   "cell_type": "code",
   "execution_count": 18,
   "metadata": {},
   "outputs": [
    {
     "name": "stdout",
     "output_type": "stream",
     "text": [
      "Number Of lines:  2\n",
      "Number of characters 25\n",
      "Number of words 5\n"
     ]
    }
   ],
   "source": [
    "def stats(filename):\n",
    "    infile=open(filename,'r')\n",
    "    content=infile.read()\n",
    "    lines=content.count('\\n')+1\n",
    "    words=content.split()\n",
    "    print(\"Number Of lines: \",lines)\n",
    "    print(\"Number of characters\",len(content))\n",
    "    print(\"Number of words\",len(words))\n",
    "\n",
    "stats(\"sentences.txt\")\n",
    "    \n",
    "    "
   ]
  },
  {
   "cell_type": "code",
   "execution_count": 25,
   "metadata": {},
   "outputs": [
    {
     "name": "stdout",
     "output_type": "stream",
     "text": [
      "0  Students got A\n",
      "0  Students got A-\n",
      "0  Students got B+\n",
      "0  Students got B\n",
      "0  Students got B-\n",
      "0  Students got C\n",
      "0  Students got C-\n",
      "0  Students got F\n"
     ]
    }
   ],
   "source": [
    "def distribution(filename):\n",
    "    infile = open(filename,'r')\n",
    "    file = infile.read()\n",
    "    c = file.split()\n",
    "    print(c.count(\"A\"),' Students got A')\n",
    "    print(c.count(\"A-\"),' Students got A-')\n",
    "    print(c.count(\"B+\"),' Students got B+')\n",
    "    print(c.count(\"B\"),' Students got B')\n",
    "    print(c.count(\"B-\"),' Students got B-')\n",
    "    print(c.count(\"C\"),' Students got C')\n",
    "    print(c.count(\"C-\"),' Students got C-')\n",
    "    print(c.count(\"F\"),' Students got F')\n",
    "    \n",
    "distribution('grades.txt')"
   ]
  },
  {
   "cell_type": "code",
   "execution_count": 26,
   "metadata": {},
   "outputs": [
    {
     "data": {
      "text/plain": [
       "'True'"
      ]
     },
     "execution_count": 26,
     "metadata": {},
     "output_type": "execute_result"
    }
   ],
   "source": [
    "def duplicate(a):\n",
    "    infile = open(a,'r')\n",
    "    file = infile.read()\n",
    "    z = file.split()\n",
    "    y = []\n",
    "    for i in z :\n",
    "        if i in y:\n",
    "            return(\"False\")\n",
    "         \n",
    "        else:\n",
    "            c = y.append(i)\n",
    "    return(\"True\")\n",
    "        \n",
    "duplicate('sentences.txt')           "
   ]
  },
  {
   "cell_type": "code",
   "execution_count": 31,
   "metadata": {},
   "outputs": [
    {
     "name": "stdout",
     "output_type": "stream",
     "text": [
      "['Abdullah']\n",
      "['23/2/97']\n"
     ]
    }
   ],
   "source": [
    "dict = {'Name':['Abdullah'],'DOB':['23/2/97'],'Class':['XIII']}\n",
    "print(dict['Name'])\n",
    "print(dict['DOB'])"
   ]
  },
  {
   "cell_type": "code",
   "execution_count": 32,
   "metadata": {},
   "outputs": [
    {
     "name": "stdout",
     "output_type": "stream",
     "text": [
      "['Abdullah']\n",
      "['23/2/97']\n",
      "['XIII']\n"
     ]
    }
   ],
   "source": [
    "dict = {'Name':['Abdullah'],'DOB':['23/2/97'],'Class':['XIII']}\n",
    "for x in dict:\n",
    "    print(dict[x])"
   ]
  },
  {
   "cell_type": "code",
   "execution_count": 34,
   "metadata": {},
   "outputs": [
    {
     "name": "stdout",
     "output_type": "stream",
     "text": [
      "Name ['Abdullah']\n",
      "DOB ['23/2/97']\n",
      "Class ['XIII']\n"
     ]
    }
   ],
   "source": [
    "dict = {'Name':['Abdullah'],'DOB':['23/2/97'],'Class':['XIII']}\n",
    "for x, y in dict.items():\n",
    "    print(x,y)"
   ]
  },
  {
   "cell_type": "code",
   "execution_count": 41,
   "metadata": {},
   "outputs": [
    {
     "ename": "TypeError",
     "evalue": "'dict' object is not callable",
     "output_type": "error",
     "traceback": [
      "\u001b[1;31m---------------------------------------------------------------------------\u001b[0m",
      "\u001b[1;31mTypeError\u001b[0m                                 Traceback (most recent call last)",
      "\u001b[1;32m<ipython-input-41-fdd1bcbd0b0e>\u001b[0m in \u001b[0;36m<module>\u001b[1;34m()\u001b[0m\n\u001b[0;32m      1\u001b[0m \u001b[0mdict\u001b[0m \u001b[1;33m=\u001b[0m \u001b[1;33m{\u001b[0m\u001b[1;34m'Name'\u001b[0m\u001b[1;33m:\u001b[0m\u001b[1;33m[\u001b[0m\u001b[1;34m'Abdullah'\u001b[0m\u001b[1;33m]\u001b[0m\u001b[1;33m,\u001b[0m\u001b[1;34m'DOB'\u001b[0m\u001b[1;33m:\u001b[0m\u001b[1;33m[\u001b[0m\u001b[1;34m'23/2/97'\u001b[0m\u001b[1;33m]\u001b[0m\u001b[1;33m,\u001b[0m\u001b[1;34m'Class'\u001b[0m\u001b[1;33m:\u001b[0m\u001b[1;33m[\u001b[0m\u001b[1;34m'XIII'\u001b[0m\u001b[1;33m]\u001b[0m\u001b[1;33m}\u001b[0m\u001b[1;33m\u001b[0m\u001b[0m\n\u001b[1;32m----> 2\u001b[1;33m \u001b[1;32mif\u001b[0m \u001b[1;34m'DOB'\u001b[0m \u001b[1;32min\u001b[0m \u001b[0mdict\u001b[0m\u001b[1;33m(\u001b[0m\u001b[1;33m)\u001b[0m\u001b[1;33m:\u001b[0m\u001b[1;33m\u001b[0m\u001b[0m\n\u001b[0m\u001b[0;32m      3\u001b[0m     \u001b[0mprint\u001b[0m\u001b[1;33m(\u001b[0m\u001b[1;34m\"Yes DOB is one of the key in the dict dictionary\"\u001b[0m\u001b[1;33m)\u001b[0m\u001b[1;33m\u001b[0m\u001b[0m\n",
      "\u001b[1;31mTypeError\u001b[0m: 'dict' object is not callable"
     ]
    }
   ],
   "source": [
    "dict = {'Name':['Abdullah'],'DOB':['23/2/97'],'Class':['XIII']}\n",
    "if 'DOB' in dict():\n",
    "    print(\"Yes DOB is one of the key in the dict dictionary\")"
   ]
  },
  {
   "cell_type": "code",
   "execution_count": 42,
   "metadata": {},
   "outputs": [
    {
     "name": "stdout",
     "output_type": "stream",
     "text": [
      "21\n",
      "Usman Institute Of Technology\n"
     ]
    }
   ],
   "source": [
    "dict = {'Name':['Abdullah'],'DOB':['23/2/97'],'Class':['XIII']}\n",
    "dict['age']=21\n",
    "dict['School']='Usman Institute Of Technology'\n",
    "print(dict['age'])\n",
    "print(dict['School'])"
   ]
  },
  {
   "cell_type": "code",
   "execution_count": 43,
   "metadata": {},
   "outputs": [
    {
     "name": "stdout",
     "output_type": "stream",
     "text": [
      "Abdullah\n",
      "Mujeeb\n",
      "Shehreyar\n"
     ]
    }
   ],
   "source": [
    "dict['Friend1']='Abdullah'\n",
    "dict['Friend2']='Mujeeb'\n",
    "dict['Friend3']='Shehreyar'\n",
    "print(dict['Friend1'])\n",
    "print(dict['Friend2'])\n",
    "print(dict['Friend3'])"
   ]
  },
  {
   "cell_type": "code",
   "execution_count": 45,
   "metadata": {},
   "outputs": [
    {
     "name": "stdout",
     "output_type": "stream",
     "text": [
      "F1 ['Abdullah']\n",
      "F2 ['Mujeeb']\n",
      "F3 ['Shehreyar']\n",
      "F4 ['Ahmed']\n",
      "{'F2': ['Mujeeb'], 'F3': ['Shehreyar'], 'F4': ['Ahmed']}\n"
     ]
    }
   ],
   "source": [
    "dict = {'F1':['Abdullah'],'F2':['Mujeeb'],'F3':['Shehreyar'],'F4':['Ahmed']}\n",
    "for x, y in dict.items():\n",
    "     print(x,y)\n",
    "dict.pop('F1')\n",
    "print(dict)\n"
   ]
  },
  {
   "cell_type": "code",
   "execution_count": 47,
   "metadata": {},
   "outputs": [
    {
     "name": "stdout",
     "output_type": "stream",
     "text": [
      "Abdullah\n",
      "Mujeeb\n",
      "Shehreyar\n"
     ]
    }
   ],
   "source": [
    "dict['Friend1']='Abdullah'\n",
    "dict['Friend2']='Mujeeb'\n",
    "dict['Friend3']='Shehreyar'\n",
    "print(dict['Friend1'])\n",
    "print(dict['Friend2'])\n",
    "print(dict['Friend3'])\n",
    "\n",
    "del dict['Friend2']"
   ]
  },
  {
   "cell_type": "code",
   "execution_count": 49,
   "metadata": {},
   "outputs": [
    {
     "name": "stdout",
     "output_type": "stream",
     "text": [
      "F1 ['Abdullah']\n",
      "F2 ['Mujeeb']\n",
      "F3 ['Shehreyar']\n",
      "F4 ['Ahmed']\n",
      "After poping the item the dictionary poped items are  {'F1': ['Abdullah'], 'F2': ['Mujeeb'], 'F3': ['Shehreyar']}\n"
     ]
    }
   ],
   "source": [
    "dict = {'F1':['Abdullah'],'F2':['Mujeeb'],'F3':['Shehreyar'],'F4':['Ahmed']}\n",
    "for x, y in dict.items():\n",
    "     print(x,y)\n",
    "dict.popitem()\n",
    "print(\"After poping the item the dictionary poped items are \",dict)\n"
   ]
  },
  {
   "cell_type": "code",
   "execution_count": 52,
   "metadata": {},
   "outputs": [
    {
     "name": "stdout",
     "output_type": "stream",
     "text": [
      "['Wed']\n",
      "['Thu']\n",
      "['Sun']\n",
      "['Mon']\n",
      "['Tue']\n"
     ]
    }
   ],
   "source": [
    "def Day(day):\n",
    "    days = {'1' : ['Mon'] , '2' : ['Tue'] ,'3' : ['Wed'] , '4' : ['Thu'] , '5' : ['Fri'], '6' : ['Sat'], '7' : ['Sun'] }\n",
    "    if day.lower() in days:\n",
    "        print(days.get(day.lower()))\n",
    "    else:\n",
    "        print(\"Sorry Required Month is not here \")\n",
    "Day('3')\n",
    "Day('4')\n",
    "Day('7')\n",
    "Day('1')\n",
    "Day('2')"
   ]
  },
  {
   "cell_type": "code",
   "execution_count": 51,
   "metadata": {},
   "outputs": [
    {
     "name": "stdout",
     "output_type": "stream",
     "text": [
      "Enter the number The inserted :5\n",
      "0\t\n",
      "0\t1\t\n",
      "0\t1\t2\t\n",
      "0\t1\t2\t3\t\n",
      "0\t1\t2\t3\t4\t\n",
      "0\t1\t2\t3\t4\t5\t\n"
     ]
    }
   ],
   "source": [
    "# PATTERN\n",
    "n = eval(input(\"Enter the number The inserted :\"))\n",
    "for i in range(0,n+1):\n",
    "    for j in range(0,i+1):\n",
    "        print(j,end='\\t')\n",
    "    print(\"\\r\")"
   ]
  },
  {
   "cell_type": "code",
   "execution_count": 54,
   "metadata": {},
   "outputs": [
    {
     "name": "stdout",
     "output_type": "stream",
     "text": [
      "Enter The number: 6\n",
      "          0   \n",
      "        0   1   \n",
      "      0   1   2   \n",
      "    0   1   2   3   \n",
      "  0   1   2   3   4   \n",
      "0   1   2   3   4   5   \n"
     ]
    }
   ],
   "source": [
    "n = int(input(\"Enter The number: \"))\n",
    "k = 10\n",
    "for i in range(0,n):\n",
    "    for j in range(0,k):\n",
    "        print(end=\" \")\n",
    "    k=k-2\n",
    "    for l in range(0,i+1):\n",
    "        print(l,\" \",end=\" \")\n",
    "    print(\"\\r\")"
   ]
  },
  {
   "cell_type": "code",
   "execution_count": 58,
   "metadata": {},
   "outputs": [
    {
     "name": "stdout",
     "output_type": "stream",
     "text": [
      "7654321\n",
      "654321\n",
      "54321\n",
      "4321\n",
      "321\n",
      "21\n",
      "1\n",
      "1\n",
      "21\n",
      "321\n",
      "4321\n",
      "54321\n",
      "654321\n"
     ]
    }
   ],
   "source": [
    "for i in range(7,0,-1):\n",
    "    for j in range(i,0,-1):\n",
    "        print(j,end= '')\n",
    "    print()\n",
    "    \n",
    "for k in range(1,7):\n",
    "    for l in range(k,0,-1):\n",
    "        print(l,end='')\n",
    "    print()"
   ]
  },
  {
   "cell_type": "code",
   "execution_count": 59,
   "metadata": {},
   "outputs": [
    {
     "name": "stdout",
     "output_type": "stream",
     "text": [
      "54321\n",
      "4321\n",
      "321\n",
      "21\n",
      "1\n"
     ]
    }
   ],
   "source": [
    "for i in range(5,0,-1):\n",
    "    for j in range(i,0,-1):\n",
    "        print(j,end= '')\n",
    "    print()"
   ]
  }
 ],
 "metadata": {
  "kernelspec": {
   "display_name": "Python 3",
   "language": "python",
   "name": "python3"
  },
  "language_info": {
   "codemirror_mode": {
    "name": "ipython",
    "version": 3
   },
   "file_extension": ".py",
   "mimetype": "text/x-python",
   "name": "python",
   "nbconvert_exporter": "python",
   "pygments_lexer": "ipython3",
   "version": "3.7.0"
  }
 },
 "nbformat": 4,
 "nbformat_minor": 2
}
